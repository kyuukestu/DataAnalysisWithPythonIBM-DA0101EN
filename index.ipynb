{
 "cells": [
  {
   "cell_type": "code",
   "execution_count": 9,
   "metadata": {},
   "outputs": [
    {
     "name": "stdout",
     "output_type": "stream",
     "text": [
      "           length  compression-ratio\n",
      "count  201.000000         201.000000\n",
      "mean   174.200995          10.164279\n",
      "std     12.322175           4.004965\n",
      "min    141.100000           7.000000\n",
      "25%    166.800000           8.600000\n",
      "50%    173.200000           9.000000\n",
      "75%    183.500000           9.400000\n",
      "max    208.100000          23.000000\n"
     ]
    }
   ],
   "source": [
    "import pandas as pd\n",
    "import numpy as np\n",
    "\n",
    "url = \"./automobile.csv\"\n",
    "df = pd.read_csv(url)\n",
    "\n",
    "\n",
    "# print(df.tail(10))\n",
    "\n",
    "df1 = df.replace('?', np.nan)\n",
    "df = df1.dropna(subset=[\"price\"], axis=0)\n",
    "# print(df.head(1))\n",
    "\n",
    "# print(df.dtypes)\n",
    "df.describe(include = \"all\")\n",
    "# print(df[['length', 'compression-ratio']].describe())\n",
    "print(df.info())"
   ]
  }
 ],
 "metadata": {
  "kernelspec": {
   "display_name": ".venv",
   "language": "python",
   "name": "python3"
  },
  "language_info": {
   "codemirror_mode": {
    "name": "ipython",
    "version": 3
   },
   "file_extension": ".py",
   "mimetype": "text/x-python",
   "name": "python",
   "nbconvert_exporter": "python",
   "pygments_lexer": "ipython3",
   "version": "3.12.4"
  }
 },
 "nbformat": 4,
 "nbformat_minor": 2
}
