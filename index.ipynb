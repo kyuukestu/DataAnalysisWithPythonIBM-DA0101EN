{
 "cells": [
  {
   "cell_type": "code",
   "execution_count": null,
   "metadata": {},
   "outputs": [
    {
     "name": "stdout",
     "output_type": "stream",
     "text": [
      "   Unnamed: 0  symboling normalized-losses         make fuel-type aspiration  \\\n",
      "0           0          3               NaN  alfa-romero       gas        std   \n",
      "1           1          3               NaN  alfa-romero       gas        std   \n",
      "2           2          1               NaN  alfa-romero       gas        std   \n",
      "3           3          2               164         audi       gas        std   \n",
      "4           4          2               164         audi       gas        std   \n",
      "\n",
      "  num-of-doors   body-style drive-wheels engine-location  ...  engine-size  \\\n",
      "0          two  convertible          rwd           front  ...          130   \n",
      "1          two  convertible          rwd           front  ...          130   \n",
      "2          two    hatchback          rwd           front  ...          152   \n",
      "3         four        sedan          fwd           front  ...          109   \n",
      "4         four        sedan          4wd           front  ...          136   \n",
      "\n",
      "   fuel-system  bore  stroke  compression-ratio horsepower peak-rpm  city-mpg  \\\n",
      "0         mpfi  3.47    2.68                9.0        111     5000        21   \n",
      "1         mpfi  3.47    2.68                9.0        111     5000        21   \n",
      "2         mpfi  2.68    3.47                9.0        154     5000        19   \n",
      "3         mpfi  3.19    3.40               10.0        102     5500        24   \n",
      "4         mpfi  3.19    3.40                8.0        115     5500        18   \n",
      "\n",
      "  highway-mpg price($)  \n",
      "0          27    13495  \n",
      "1          27    16500  \n",
      "2          26    16500  \n",
      "3          30    13950  \n",
      "4          22    17450  \n",
      "\n",
      "[5 rows x 27 columns]\n"
     ]
    },
    {
     "name": "stderr",
     "output_type": "stream",
     "text": [
      "/var/folders/th/gk42vq0d6sq5qyj_z0s1ndyh0000gn/T/ipykernel_1235/3884085996.py:19: SettingWithCopyWarning: \n",
      "A value is trying to be set on a copy of a slice from a DataFrame\n",
      "\n",
      "See the caveats in the documentation: https://pandas.pydata.org/pandas-docs/stable/user_guide/indexing.html#returning-a-view-versus-a-copy\n",
      "  df.rename(columns = {\"price\": \"price($)\"}, inplace = True)\n"
     ]
    }
   ],
   "source": [
    "import pandas as pd\n",
    "import numpy as np\n",
    "\n",
    "url = \"./automobile.csv\"\n",
    "df = pd.read_csv(url)\n",
    "\n",
    "\n",
    "# print(df.tail(10))\n",
    "\n",
    "df1 = df.replace('?', np.nan)\n",
    "df = df1.dropna(subset=[\"price\"], axis=0)\n",
    "# print(df.head(1))\n",
    "\n",
    "# print(df.dtypes)\n",
    "df.describe(include = \"all\")\n",
    "# print(df[['length', 'compression-ratio']].describe())\n",
    "# print(df.info())\n",
    "\n",
    "df.rename(columns = {\"price\": \"price($)\"}, inplace = True)\n",
    "print(df.head())\n",
    "\n",
    "df.std()"
   ]
  }
 ],
 "metadata": {
  "kernelspec": {
   "display_name": ".venv",
   "language": "python",
   "name": "python3"
  },
  "language_info": {
   "codemirror_mode": {
    "name": "ipython",
    "version": 3
   },
   "file_extension": ".py",
   "mimetype": "text/x-python",
   "name": "python",
   "nbconvert_exporter": "python",
   "pygments_lexer": "ipython3",
   "version": "3.12.4"
  }
 },
 "nbformat": 4,
 "nbformat_minor": 2
}
