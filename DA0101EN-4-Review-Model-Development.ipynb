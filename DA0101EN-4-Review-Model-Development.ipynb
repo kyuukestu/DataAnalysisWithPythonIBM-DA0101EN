{
 "cells": [
  {
   "cell_type": "code",
   "execution_count": 16,
   "metadata": {},
   "outputs": [
    {
     "name": "stdout",
     "output_type": "stream",
     "text": [
      "-15469.04712032576\n",
      "[20.35983585  8.25411089 33.01845058 22.20517885]\n"
     ]
    }
   ],
   "source": [
    "import pandas as pd\n",
    "import numpy as np\n",
    "import matplotlib.pyplot as plt\n",
    "import sklearn.linear_model\n",
    "import skillsnetwork\n",
    "import warnings\n",
    "warnings.filterwarnings('ignore')\n",
    "\n",
    "df = pd.read_csv(\"./automobileClean.csv\", header=0)\n",
    "# print(df.head())\n",
    "\n",
    "\"\"\"NOTE - Simple Linear Regression \n",
    "Simple Linear Regression is a method to help us understand the relationship between two variables:  \n",
    "- the predictor/independent variable (X)\n",
    "- The response/dependent variable (that we want to predict) (Y)\n",
    "\n",
    "The result of Linear Regression is a linear function that predicts the response (dependent) variable as a function of the predictor (independent) variable.\n",
    "\n",
    "Linear Function: \n",
    "Y = a + bX\n",
    "\n",
    "- 'a' refers to the intercept of the regression line, in others words: the value of Y when X is 0\n",
    "- 'b' refers to the slope of the regression line, in others words: the value with which Y changes when X changes by 1 unit\n",
    "\"\"\"\n",
    "\n",
    "lm = sklearn.linear_model.LinearRegression()\n",
    "\n",
    "\n",
    "# Create a linear function with 'highway-mpg' as the pedictor and 'price' as the response.\n",
    "X = df[['highway-mpg']]\n",
    "Y = df['price']\n",
    "\n",
    "lm.fit(X,Y)\n",
    "\n",
    "Yhat = lm.predict(X)\n",
    "\n",
    "#STUB - Example Print Statements\n",
    "# print(Yhat[0:5])\n",
    "# print(lm.intercept_)\n",
    "# print(lm.coef_)\n",
    "# print(\"Equation of the line: \\nPrice = \", lm1.coef_, \"* highway-mpg + \", lm1.intercept_)\n",
    "\n",
    "lm1 = sklearn.linear_model.LinearRegression()\n",
    "X = df[['engine-size']]\n",
    "Y = df['price']\n",
    "\n",
    "lm1.fit(X,Y)\n",
    "\n",
    "Yhat = lm1.predict(X)\n",
    "\n",
    "#STUB - lm1 Print Statements\n",
    "# print(Yhat[0:5])\n",
    "# print(\"lm1 Y intercept: \", lm1.intercept_)\n",
    "# print(\"lm1 coefficients/slope:\", lm1.coef_)\n",
    "# print(\"Equation of the line: \\nPrice = \", lm1.coef_, \"* Engine Size + \", lm1.intercept_)\n",
    "\n",
    "\"\"\"NOTE - Multiple Linear Regression\n",
    "What if we want to predict care price using more than one variable?\n",
    "\n",
    "Multiple Linear Regression is very similar to Simple Linear Regression (SLR) but this method is used to explain the relationship between one continuous response (dependent) variable and two or more predictor (independent) variables. Most of the real-world regression models involve multiple predictors.\n",
    "\n",
    "Equation:\n",
    "Yhat = a + b1X1 + b2X2 + b3X3 + b4X4...\n",
    "\"\"\"\n",
    "df = df.dropna()\n",
    "\n",
    "Z = df[['horsepower', 'curb-weight', 'engine-size', 'highway-mpg']]\n",
    "lm.fit(Z, df['price'])\n",
    "print(lm.intercept_)\n",
    "print(lm.coef_)\n",
    "\n"
   ]
  }
 ],
 "metadata": {
  "kernelspec": {
   "display_name": ".venv",
   "language": "python",
   "name": "python3"
  },
  "language_info": {
   "codemirror_mode": {
    "name": "ipython",
    "version": 3
   },
   "file_extension": ".py",
   "mimetype": "text/x-python",
   "name": "python",
   "nbconvert_exporter": "python",
   "pygments_lexer": "ipython3",
   "version": "3.12.4"
  }
 },
 "nbformat": 4,
 "nbformat_minor": 2
}
